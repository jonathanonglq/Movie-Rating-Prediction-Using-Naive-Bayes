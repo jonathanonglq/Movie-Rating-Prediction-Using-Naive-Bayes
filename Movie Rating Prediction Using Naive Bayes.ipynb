{
 "cells": [
  {
   "cell_type": "markdown",
   "metadata": {},
   "source": [
    "# Movie Rating Prediction Using Naive Bayes\n"
   ]
  },
  {
   "cell_type": "code",
   "execution_count": 1,
   "metadata": {},
   "outputs": [
    {
     "name": "stderr",
     "output_type": "stream",
     "text": [
      "D:\\Users\\Jonathan\\Anaconda3\\lib\\site-packages\\sklearn\\cross_validation.py:41: DeprecationWarning: This module was deprecated in version 0.18 in favor of the model_selection module into which all the refactored classes and functions are moved. Also note that the interface of the new CV iterators are different from that of this module. This module will be removed in 0.20.\n",
      "  \"This module will be removed in 0.20.\", DeprecationWarning)\n"
     ]
    }
   ],
   "source": [
    "%matplotlib inline\n",
    "import pandas as pd\n",
    "import numpy as np\n",
    "import matplotlib.pyplot as plt\n",
    "\n",
    "#hint: Consult the scikit-learn documentation to\n",
    "#      learn about what these classes do do\n",
    "from  sklearn.cross_validation import cross_val_score\n",
    "from sklearn.cross_validation import train_test_split\n",
    "from sklearn.naive_bayes import MultinomialNB\n",
    "from sklearn.feature_extraction.text import CountVectorizer\n",
    "import statsmodels.formula.api as smf\n",
    "from sklearn.metrics import mean_squared_error\n",
    "from sklearn.preprocessing import StandardScaler\n",
    "from sklearn.decomposition import PCA\n",
    "\n",
    "import warnings\n",
    "warnings.filterwarnings('ignore')"
   ]
  },
  {
   "cell_type": "markdown",
   "metadata": {},
   "source": [
    "## Introduction\n",
    "\n",
    "In this project, we will analyze movie reviews and determine whether a movie is good or bad.  The movie reviews data has been downloaded from the [Rotten Tomatoes](http://www.rottentomatoes.com) website. It contains metadata for ~65,000 different movies\n",
    "\n",
    "Our aim here is to develop a Naive Bayes classifier to determine whether a movie is Fresh or Rotten based on the contents of the reviews given to the movie.  As usual, we'll start out with some exploratory data analysis."
   ]
  },
  {
   "cell_type": "markdown",
   "metadata": {},
   "source": [
    "---\n",
    "\n",
    "## Part 1: Descriptive analysis\n",
    "\n",
    "Before beginning the \"real\" work, dig into the data a bit do see what you're dealing with.  Begin by loading the datasets and dropping rows that have missing data:"
   ]
  },
  {
   "cell_type": "code",
   "execution_count": 2,
   "metadata": {},
   "outputs": [],
   "source": [
    "reviews = pd.read_csv('reviews.csv')\n",
    "movies = pd.read_csv(\"movies.dat\", delimiter='\\t')\n",
    "reviews = reviews[~reviews.quote.isnull()]\n",
    "reviews = reviews[reviews.fresh != 'none']\n",
    "reviews = reviews[reviews.quote.str.len() > 0]"
   ]
  },
  {
   "cell_type": "markdown",
   "metadata": {},
   "source": [
    "### 1.1: Basic features of the dataset\n",
    "\n",
    "Answer the following questions by having your python code directly print the answers:\n",
    "\n",
    "* How many unique reviews (quotes) are in the `reviews` dataset?\n",
    "* How many unique reviewers (critics) are in the `reviews` dataset?\n",
    "* How many unique movies are in the `reviews` dataset?\n",
    "* How many unique movies are in the *`movies`* dataset?\n",
    "* How many different publications have reviews in the `reviews` dataset?\n"
   ]
  },
  {
   "cell_type": "code",
   "execution_count": 3,
   "metadata": {},
   "outputs": [
    {
     "name": "stdout",
     "output_type": "stream",
     "text": [
      "Number of unique reviews: 12814\n",
      "Number of unique reviewers: 541\n",
      "Number of unique movies in 'reviews' dataset: 1720\n",
      "Number of unqiue movies in 'movies' dataset: 9405\n",
      "Number of unique publications: 64\n"
     ]
    }
   ],
   "source": [
    "# enter your code below\n",
    "\n",
    "print(\"Number of unique reviews: {}\".format(len(reviews.quote.unique())))\n",
    "print(\"Number of unique reviewers: {}\".format(len(reviews.critic.unique())))\n",
    "print(\"Number of unique movies in 'reviews' dataset: {}\".format(len(reviews.title.unique())))\n",
    "print(\"Number of unqiue movies in 'movies' dataset: {}\".format(len(movies.title.unique())))\n",
    "print(\"Number of unique publications: {}\".format(len(reviews.publication.unique())))"
   ]
  },
  {
   "cell_type": "markdown",
   "metadata": {},
   "source": [
    "**Section 1.1**\n",
    "\n",
    "It is worth noting that the number of _unique_ quotes are different from the _total_ number of quotes, which means that there are some quotes which are _exactly the same_. For instance, the quote _'A masterpiece.'_ was used by both Ben Walters and Geoff Andrew. However, there are other quotes, such as _'It's sick, slick and sensational.'_, which are duplicates. "
   ]
  },
  {
   "cell_type": "markdown",
   "metadata": {},
   "source": [
    "### 1.2 Number of reviews per reviewer\n",
    "\n",
    "Using the `reviews` dataset, create a histogram showing the distribution of the number of reviews per reviewer.  Create the bin width (x-axis) to be 1 unit wide, and the range of the axis to be from 0 to 30.  Scale the y-axis to show the logarithm of (count of) the number of reviewers.  Label your axes and make your histogram look professional."
   ]
  },
  {
   "cell_type": "code",
   "execution_count": 4,
   "metadata": {
    "scrolled": false
   },
   "outputs": [
    {
     "data": {
      "text/plain": [
       "Text(0,0.5,'Number of Reviewers')"
      ]
     },
     "execution_count": 4,
     "metadata": {},
     "output_type": "execute_result"
    },
    {
     "data": {
      "image/png": "[encoded data removed]",
      "text/plain": [
       "<matplotlib.figure.Figure at 0x1f32ba93a20>"
      ]
     },
     "metadata": {},
     "output_type": "display_data"
    }
   ],
   "source": [
    "reviews['count'] = 1\n",
    "reviewNum = reviews.groupby('critic').sum()['count']\n",
    "\n",
    "plt.figure(figsize = (12,6))\n",
    "plt.hist(reviewNum, Color = 'lightblue', bins = 30, range = (0,30+1), align = 'left', rwidth = 0.85)\n",
    "plt.yscale('log', nonposy = 'clip')\n",
    "plt.title('Histogram of Number of Reviews Per Reviewer', fontsize = 18)\n",
    "plt.xlabel('Number of Reviews', fontsize = 18)\n",
    "plt.ylabel('Number of Reviewers', fontsize = 18)"
   ]
  },
  {
   "cell_type": "markdown",
   "metadata": {},
   "source": [
    "### 1.3 Zoom in on a few reviewers\n",
    "Find the 30 critics with the most reviews, and list their names in a table along with (a) the name of the publication they work for, (b) the date of their first review, and (c) the date of their last review\n",
    "\n",
    "*hint: use the groupby function to do this quickly*"
   ]
  },
  {
   "cell_type": "code",
   "execution_count": 5,
   "metadata": {
    "scrolled": true
   },
   "outputs": [
    {
     "data": {
      "text/html": [
       "<div>\n",
       "<style scoped>\n",
       "    .dataframe tbody tr th:only-of-type {\n",
       "        vertical-align: middle;\n",
       "    }\n",
       "\n",
       "    .dataframe tbody tr th {\n",
       "        vertical-align: top;\n",
       "    }\n",
       "\n",
       "    .dataframe thead th {\n",
       "        text-align: right;\n",
       "    }\n",
       "</style>\n",
       "<table border=\"1\" class=\"dataframe\">\n",
       "  <thead>\n",
       "    <tr style=\"text-align: right;\">\n",
       "      <th></th>\n",
       "      <th>Publication</th>\n",
       "      <th>Date of First Review</th>\n",
       "      <th>Date of Last Review</th>\n",
       "    </tr>\n",
       "    <tr>\n",
       "      <th>critic</th>\n",
       "      <th></th>\n",
       "      <th></th>\n",
       "      <th></th>\n",
       "    </tr>\n",
       "  </thead>\n",
       "  <tbody>\n",
       "    <tr>\n",
       "      <th>Roger Ebert</th>\n",
       "      <td>[Chicago Sun-Times, At the Movies]</td>\n",
       "      <td>2000-01-01 00:00:00</td>\n",
       "      <td>2013-06-11 00:00:00</td>\n",
       "    </tr>\n",
       "    <tr>\n",
       "      <th>James Berardinelli</th>\n",
       "      <td>[ReelViews]</td>\n",
       "      <td>1800-01-01 00:00:00</td>\n",
       "      <td>2012-02-07 00:00:00</td>\n",
       "    </tr>\n",
       "    <tr>\n",
       "      <th>Janet Maslin</th>\n",
       "      <td>[New York Times]</td>\n",
       "      <td>2000-01-01 00:00:00</td>\n",
       "      <td>2010-09-07 00:00:00</td>\n",
       "    </tr>\n",
       "    <tr>\n",
       "      <th>Variety Staff</th>\n",
       "      <td>[Variety]</td>\n",
       "      <td>2001-02-13 00:00:00</td>\n",
       "      <td>2012-08-15 00:00:00</td>\n",
       "    </tr>\n",
       "    <tr>\n",
       "      <th>Jonathan Rosenbaum</th>\n",
       "      <td>[Chicago Reader]</td>\n",
       "      <td>1988-07-11 00:00:00</td>\n",
       "      <td>2013-10-22 00:00:00</td>\n",
       "    </tr>\n",
       "    <tr>\n",
       "      <th>Desson Thomson</th>\n",
       "      <td>[Washington Post]</td>\n",
       "      <td>2000-01-01 00:00:00</td>\n",
       "      <td>2012-10-08 00:00:00</td>\n",
       "    </tr>\n",
       "    <tr>\n",
       "      <th>Geoff Andrew</th>\n",
       "      <td>[Time Out]</td>\n",
       "      <td>2005-08-11 00:00:00</td>\n",
       "      <td>2012-04-05 00:00:00</td>\n",
       "    </tr>\n",
       "    <tr>\n",
       "      <th>Dave Kehr</th>\n",
       "      <td>[Chicago Reader, New York Daily News, Chicago ...</td>\n",
       "      <td>2000-01-01 00:00:00</td>\n",
       "      <td>2013-11-20 00:00:00</td>\n",
       "    </tr>\n",
       "    <tr>\n",
       "      <th>Kenneth Turan</th>\n",
       "      <td>[Los Angeles Times]</td>\n",
       "      <td>2000-01-01 00:00:00</td>\n",
       "      <td>2013-10-05 00:00:00</td>\n",
       "    </tr>\n",
       "    <tr>\n",
       "      <th>Mick LaSalle</th>\n",
       "      <td>[San Francisco Chronicle]</td>\n",
       "      <td>2000-01-01 00:00:00</td>\n",
       "      <td>2009-11-25 00:00:00</td>\n",
       "    </tr>\n",
       "    <tr>\n",
       "      <th>Owen Gleiberman</th>\n",
       "      <td>[Entertainment Weekly]</td>\n",
       "      <td>1800-01-01 00:00:00</td>\n",
       "      <td>2011-09-07 00:00:00</td>\n",
       "    </tr>\n",
       "    <tr>\n",
       "      <th>Rita Kempley</th>\n",
       "      <td>[Washington Post]</td>\n",
       "      <td>2000-01-01 00:00:00</td>\n",
       "      <td>2013-11-02 00:00:00</td>\n",
       "    </tr>\n",
       "    <tr>\n",
       "      <th>Joe Baltake</th>\n",
       "      <td>[Sacramento Bee, Passionate Moviegoer, Philade...</td>\n",
       "      <td>2000-01-01 00:00:00</td>\n",
       "      <td>2013-08-04 00:00:00</td>\n",
       "    </tr>\n",
       "    <tr>\n",
       "      <th>Todd McCarthy</th>\n",
       "      <td>[Variety]</td>\n",
       "      <td>2000-01-01 00:00:00</td>\n",
       "      <td>2012-10-09 00:00:00</td>\n",
       "    </tr>\n",
       "    <tr>\n",
       "      <th>Vincent Canby</th>\n",
       "      <td>[New York Times]</td>\n",
       "      <td>2000-01-01 00:00:00</td>\n",
       "      <td>2013-07-29 00:00:00</td>\n",
       "    </tr>\n",
       "    <tr>\n",
       "      <th>Hal Hinson</th>\n",
       "      <td>[Washington Post]</td>\n",
       "      <td>2000-01-01 00:00:00</td>\n",
       "      <td>2013-06-26 00:00:00</td>\n",
       "    </tr>\n",
       "    <tr>\n",
       "      <th>Susan Stark</th>\n",
       "      <td>[Detroit News]</td>\n",
       "      <td>2000-01-01 00:00:00</td>\n",
       "      <td>2002-10-25 00:00:00</td>\n",
       "    </tr>\n",
       "    <tr>\n",
       "      <th>Stephen Holden</th>\n",
       "      <td>[New York Times]</td>\n",
       "      <td>2000-01-01 00:00:00</td>\n",
       "      <td>2009-02-06 00:00:00</td>\n",
       "    </tr>\n",
       "    <tr>\n",
       "      <th>Derek Adams</th>\n",
       "      <td>[Time Out]</td>\n",
       "      <td>2006-01-26 00:00:00</td>\n",
       "      <td>2009-10-04 00:00:00</td>\n",
       "    </tr>\n",
       "    <tr>\n",
       "      <th>Kevin Thomas</th>\n",
       "      <td>[Los Angeles Times]</td>\n",
       "      <td>2000-01-01 00:00:00</td>\n",
       "      <td>2013-11-02 00:00:00</td>\n",
       "    </tr>\n",
       "    <tr>\n",
       "      <th>Peter Stack</th>\n",
       "      <td>[San Francisco Chronicle]</td>\n",
       "      <td>2000-01-01 00:00:00</td>\n",
       "      <td>2002-06-18 00:00:00</td>\n",
       "    </tr>\n",
       "    <tr>\n",
       "      <th>Bosley Crowther</th>\n",
       "      <td>[New York Times]</td>\n",
       "      <td>2000-01-01 00:00:00</td>\n",
       "      <td>2008-05-06 00:00:00</td>\n",
       "    </tr>\n",
       "    <tr>\n",
       "      <th>Rick Groen</th>\n",
       "      <td>[Globe and Mail]</td>\n",
       "      <td>2002-03-19 00:00:00</td>\n",
       "      <td>2009-08-14 00:00:00</td>\n",
       "    </tr>\n",
       "    <tr>\n",
       "      <th>Edward Guthmann</th>\n",
       "      <td>[San Francisco Chronicle]</td>\n",
       "      <td>2000-01-01 00:00:00</td>\n",
       "      <td>2003-04-04 00:00:00</td>\n",
       "    </tr>\n",
       "    <tr>\n",
       "      <th>Lisa Schwarzbaum</th>\n",
       "      <td>[Entertainment Weekly]</td>\n",
       "      <td>1979-01-01 00:00:00</td>\n",
       "      <td>2012-08-15 00:00:00</td>\n",
       "    </tr>\n",
       "    <tr>\n",
       "      <th>Liam Lacey</th>\n",
       "      <td>[Globe and Mail]</td>\n",
       "      <td>2001-08-24 00:00:00</td>\n",
       "      <td>2012-04-04 00:00:00</td>\n",
       "    </tr>\n",
       "    <tr>\n",
       "      <th>Emanuel Levy</th>\n",
       "      <td>[Variety]</td>\n",
       "      <td>2000-01-01 00:00:00</td>\n",
       "      <td>2010-08-06 00:00:00</td>\n",
       "    </tr>\n",
       "    <tr>\n",
       "      <th>Richard Schickel</th>\n",
       "      <td>[TIME Magazine, The Atlantic]</td>\n",
       "      <td>2000-01-01 00:00:00</td>\n",
       "      <td>2013-08-05 00:00:00</td>\n",
       "    </tr>\n",
       "    <tr>\n",
       "      <th>Richard Corliss</th>\n",
       "      <td>[TIME Magazine]</td>\n",
       "      <td>2003-12-16 00:00:00</td>\n",
       "      <td>2013-11-06 00:00:00</td>\n",
       "    </tr>\n",
       "    <tr>\n",
       "      <th>Michael Wilmington</th>\n",
       "      <td>[Chicago Tribune, Los Angeles Times]</td>\n",
       "      <td>2000-01-01 00:00:00</td>\n",
       "      <td>2013-11-21 00:00:00</td>\n",
       "    </tr>\n",
       "  </tbody>\n",
       "</table>\n",
       "</div>"
      ],
      "text/plain": [
       "                                                          Publication  \\\n",
       "critic                                                                  \n",
       "Roger Ebert                        [Chicago Sun-Times, At the Movies]   \n",
       "James Berardinelli                                        [ReelViews]   \n",
       "Janet Maslin                                         [New York Times]   \n",
       "Variety Staff                                               [Variety]   \n",
       "Jonathan Rosenbaum                                   [Chicago Reader]   \n",
       "Desson Thomson                                      [Washington Post]   \n",
       "Geoff Andrew                                               [Time Out]   \n",
       "Dave Kehr           [Chicago Reader, New York Daily News, Chicago ...   \n",
       "Kenneth Turan                                     [Los Angeles Times]   \n",
       "Mick LaSalle                                [San Francisco Chronicle]   \n",
       "Owen Gleiberman                                [Entertainment Weekly]   \n",
       "Rita Kempley                                        [Washington Post]   \n",
       "Joe Baltake         [Sacramento Bee, Passionate Moviegoer, Philade...   \n",
       "Todd McCarthy                                               [Variety]   \n",
       "Vincent Canby                                        [New York Times]   \n",
       "Hal Hinson                                          [Washington Post]   \n",
       "Susan Stark                                            [Detroit News]   \n",
       "Stephen Holden                                       [New York Times]   \n",
       "Derek Adams                                                [Time Out]   \n",
       "Kevin Thomas                                      [Los Angeles Times]   \n",
       "Peter Stack                                 [San Francisco Chronicle]   \n",
       "Bosley Crowther                                      [New York Times]   \n",
       "Rick Groen                                           [Globe and Mail]   \n",
       "Edward Guthmann                             [San Francisco Chronicle]   \n",
       "Lisa Schwarzbaum                               [Entertainment Weekly]   \n",
       "Liam Lacey                                           [Globe and Mail]   \n",
       "Emanuel Levy                                                [Variety]   \n",
       "Richard Schickel                        [TIME Magazine, The Atlantic]   \n",
       "Richard Corliss                                       [TIME Magazine]   \n",
       "Michael Wilmington               [Chicago Tribune, Los Angeles Times]   \n",
       "\n",
       "                   Date of First Review  Date of Last Review  \n",
       "critic                                                        \n",
       "Roger Ebert         2000-01-01 00:00:00  2013-06-11 00:00:00  \n",
       "James Berardinelli  1800-01-01 00:00:00  2012-02-07 00:00:00  \n",
       "Janet Maslin        2000-01-01 00:00:00  2010-09-07 00:00:00  \n",
       "Variety Staff       2001-02-13 00:00:00  2012-08-15 00:00:00  \n",
       "Jonathan Rosenbaum  1988-07-11 00:00:00  2013-10-22 00:00:00  \n",
       "Desson Thomson      2000-01-01 00:00:00  2012-10-08 00:00:00  \n",
       "Geoff Andrew        2005-08-11 00:00:00  2012-04-05 00:00:00  \n",
       "Dave Kehr           2000-01-01 00:00:00  2013-11-20 00:00:00  \n",
       "Kenneth Turan       2000-01-01 00:00:00  2013-10-05 00:00:00  \n",
       "Mick LaSalle        2000-01-01 00:00:00  2009-11-25 00:00:00  \n",
       "Owen Gleiberman     1800-01-01 00:00:00  2011-09-07 00:00:00  \n",
       "Rita Kempley        2000-01-01 00:00:00  2013-11-02 00:00:00  \n",
       "Joe Baltake         2000-01-01 00:00:00  2013-08-04 00:00:00  \n",
       "Todd McCarthy       2000-01-01 00:00:00  2012-10-09 00:00:00  \n",
       "Vincent Canby       2000-01-01 00:00:00  2013-07-29 00:00:00  \n",
       "Hal Hinson          2000-01-01 00:00:00  2013-06-26 00:00:00  \n",
       "Susan Stark         2000-01-01 00:00:00  2002-10-25 00:00:00  \n",
       "Stephen Holden      2000-01-01 00:00:00  2009-02-06 00:00:00  \n",
       "Derek Adams         2006-01-26 00:00:00  2009-10-04 00:00:00  \n",
       "Kevin Thomas        2000-01-01 00:00:00  2013-11-02 00:00:00  \n",
       "Peter Stack         2000-01-01 00:00:00  2002-06-18 00:00:00  \n",
       "Bosley Crowther     2000-01-01 00:00:00  2008-05-06 00:00:00  \n",
       "Rick Groen          2002-03-19 00:00:00  2009-08-14 00:00:00  \n",
       "Edward Guthmann     2000-01-01 00:00:00  2003-04-04 00:00:00  \n",
       "Lisa Schwarzbaum    1979-01-01 00:00:00  2012-08-15 00:00:00  \n",
       "Liam Lacey          2001-08-24 00:00:00  2012-04-04 00:00:00  \n",
       "Emanuel Levy        2000-01-01 00:00:00  2010-08-06 00:00:00  \n",
       "Richard Schickel    2000-01-01 00:00:00  2013-08-05 00:00:00  \n",
       "Richard Corliss     2003-12-16 00:00:00  2013-11-06 00:00:00  \n",
       "Michael Wilmington  2000-01-01 00:00:00  2013-11-21 00:00:00  "
      ]
     },
     "execution_count": 5,
     "metadata": {},
     "output_type": "execute_result"
    }
   ],
   "source": [
    "mostReviews = reviewNum.sort_values(ascending = False)[0:30].index #extract top 30 critics with most reviews \n",
    "publication = pd.DataFrame(reviews.groupby('critic').publication.unique()[mostReviews])\n",
    "lastReview = pd.DataFrame(reviews.groupby('critic').review_date.max()[mostReviews])\n",
    "firstReview = pd.DataFrame(reviews.groupby('critic').review_date.min()[mostReviews])\n",
    "df = pd.concat([publication, firstReview, lastReview], axis = 1)\n",
    "df.columns = ['Publication','Date of First Review','Date of Last Review']\n",
    "df"
   ]
  },
  {
   "cell_type": "markdown",
   "metadata": {},
   "source": [
    "**Section 1.3**\n",
    "\n",
    "It should be noted that some of the review dates are erroneous. For example, the date of James Berardinelli's first review is 1800-01-01 00:00:00, which is likely a case of missing data. "
   ]
  },
  {
   "cell_type": "markdown",
   "metadata": {},
   "source": [
    "### 1.4 Ratings over time\n",
    "\n",
    "Using the `movies` dataset, create a plot that shows how the average rating per movie (rtAllCriticsRating) has evolved over time.  Do this by creating a scatterplot where the x-axis is the year in which the movie was released and the y-axis is rtAllCriticsRating.  Drop movies with 0 or unknown values to avoid biasing your results.  Then, create a scatterplot that has one <year,rating> point for each remaining movie, and pick an appropriate size/color/transparency for these points to ensure that the graph looks professional.  In other words, do not simply use the default settings, as this will produce a dense mess of dots that will be hard to interpret.  Finally, overlay on this scatterplot a line graph in orange showing how the average movie rating (the average of rtAllCriticsRating across all movies in a year) has changed over time.  Do you notice a trend?  What do you think it means?"
   ]
  },
  {
   "cell_type": "code",
   "execution_count": 6,
   "metadata": {},
   "outputs": [],
   "source": [
    "pd.options.mode.chained_assignment = None\n",
    "cleanMovies = movies[~((movies.rtAllCriticsRating == '0') | (movies.rtAllCriticsRating == '\\\\N'))]\n",
    "cleanMovies.loc[:,\"rtAllCriticsRating\"] = pd.to_numeric(cleanMovies['rtAllCriticsRating'])\n",
    "avgAllMovies = cleanMovies.groupby('year').mean().rtAllCriticsRating"
   ]
  },
  {
   "cell_type": "code",
   "execution_count": 7,
   "metadata": {
    "scrolled": false
   },
   "outputs": [
    {
     "data": {
      "text/plain": [
       "<matplotlib.legend.Legend at 0x1f32c335cc0>"
      ]
     },
     "execution_count": 7,
     "metadata": {},
     "output_type": "execute_result"
    },
    {
     "data": {
      "image/png": "[encoded data removed]",
      "text/plain": [
       "<matplotlib.figure.Figure at 0x1f32c52c668>"
      ]
     },
     "metadata": {},
     "output_type": "display_data"
    }
   ],
   "source": [
    "fig, ax = plt.subplots(figsize = (16,9))\n",
    "plt.scatter(cleanMovies['year'],cleanMovies['rtAllCriticsRating'], marker = 'x', c = 'lightgreen')\n",
    "plt.scatter(avgAllMovies.index, avgAllMovies, marker = 'x', c = 'orange')\n",
    "ax.set_xlabel('Movie Release Year', fontsize = 18)\n",
    "ax.set_ylabel('Average Rating Per Movie', fontsize = 18)\n",
    "ax.set_title('Average Rating Per Movie Over Time', fontsize = 18)\n",
    "ax.legend(['Average Rating For Each Movie','Average Rating For Each Year'], fontsize = 12)"
   ]
  },
  {
   "cell_type": "markdown",
   "metadata": {},
   "source": [
    "**Section 1.4**\n",
    "\n",
    "There is a general downward trend in the average movie rating given over time. It is difficult to attribute this decrease to any particular factor given the limited amount of information we have, but there might be two explanations for this trend: \n",
    "\n",
    "1. The expectations of the global audience and critics have been steadily increasing over time, leading to a decrease in average ratings. \n",
    "\n",
    "2. The quality of movies produced has indeed decline over time, leading to poorer average ratings. \n",
    "\n",
    "I would also argue that the average movie ratings obtained in the years _before_ 1980 may not be representative due to the small sample size available. As such, all inferences made from this general downward trend should only be taken with a pinch of salt or be further justified by other relevant data. "
   ]
  },
  {
   "cell_type": "markdown",
   "metadata": {},
   "source": [
    "---\n",
    "\n",
    "## Part 2: Naive Bayes\n",
    "\n",
    "Now it gets fun!  You are going to use a [Naive Bayes classifier](https://en.wikipedia.org/wiki/Naive_Bayes_classifier) to build a prediction model for whether a review is fresh or rotten, depending on the text of the review. Review the assigned readings on Canvas, as well as the relevant lecture notes before embarking on this journey.\n",
    "\n",
    "### Using CountVectorizer\n",
    "\n",
    "One thing that may help you in the following problems is the [CountVectorizer](http://scikit-learn.org/stable/modules/generated/sklearn.feature_extraction.text.CountVectorizer.html) object in Scikit-learn.  This will help you convert your raw text fields into \"bag of words\" vectors, i.e. a data structure that tells you how many times a particular word appears in a blurb.  Here's a simple example, make sure you understand what's going on!"
   ]
  },
  {
   "cell_type": "code",
   "execution_count": 8,
   "metadata": {},
   "outputs": [
    {
     "name": "stdout",
     "output_type": "stream",
     "text": [
      "Original text is\n",
      " machine learning rocks\n",
      "machine learning rules\n",
      "rocks rocks rules\n",
      "\n",
      "Transformed text vector is \n",
      " [[1 1 1 0]\n",
      " [1 1 0 1]\n",
      " [0 0 2 1]]\n",
      "\n",
      "Words for each feature:\n",
      "['learning', 'machine', 'rocks', 'rules']\n"
     ]
    }
   ],
   "source": [
    "from sklearn.feature_extraction.text import CountVectorizer\n",
    "\n",
    "text = ['machine learning rocks', 'machine learning rules', 'rocks rocks rules']\n",
    "print(\"Original text is\\n\", '\\n'.join(text))\n",
    "print()\n",
    "vectorizer = CountVectorizer(min_df=0)\n",
    "\n",
    "# call `fit` to build the vocabulary\n",
    "vectorizer.fit(text)\n",
    "\n",
    "# call `transform` to convert text to a bag of words\n",
    "x = vectorizer.transform(text)\n",
    "\n",
    "# CountVectorizer uses a sparse array to save memory, but it's easier in this assignment to \n",
    "# convert back to a \"normal\" numpy array\n",
    "x = x.toarray()\n",
    "\n",
    "print(\"Transformed text vector is \\n\", x)\n",
    "print()\n",
    "# `get_feature_names` tracks which word is associated with each column of the transformed x\n",
    "print(\"Words for each feature:\")\n",
    "print(vectorizer.get_feature_names())"
   ]
  },
  {
   "cell_type": "markdown",
   "metadata": {},
   "source": [
    "### 2.1 Create your X input and Y output\n",
    "\n",
    "Using the `reviews` dataframe, compute a pair of numerical X, Y arrays where:\n",
    "    \n",
    " * X is a `(nreview, nwords)` array. Each row corresponds to a bag-of-words representation for a single review. This will be the *input* to your model.\n",
    " * Y is a `nreview`-element 1/0 array, encoding whether a review is Fresh (1) or Rotten (0). This is the desired *output* from your model.\n",
    " \n",
    "Make sure to remove items with no review text"
   ]
  },
  {
   "cell_type": "code",
   "execution_count": 11,
   "metadata": {},
   "outputs": [],
   "source": [
    "\"\"\"\n",
    "Function\n",
    "--------\n",
    "make_xy\n",
    "\n",
    "Build a bag-of-words training set for the review data\n",
    "\n",
    "Parameters\n",
    "-----------\n",
    "reviews : Pandas DataFrame\n",
    "    The review data from above\n",
    "    \n",
    "vectorizer : CountVectorizer object (optional)\n",
    "    A CountVectorizer object to use. If None,\n",
    "    then create and fit a new CountVectorizer.\n",
    "    Otherwise, re-fit the provided CountVectorizer\n",
    "    using the reviews data\n",
    "    \n",
    "Returns\n",
    "-------\n",
    "X : numpy array (dims: nreview, nwords)\n",
    "    Bag-of-words representation for each review.\n",
    "Y : numpy array (dims: nreview)\n",
    "    1/0 array. 1 = fresh review, 0 = rotten review\n",
    "\n",
    "Examples\n",
    "--------\n",
    "X, Y = make_xy(reviews)\n",
    "\"\"\"\n",
    "def make_xy(reviews, vectorizer=None):\n",
    "    if vectorizer == None: \n",
    "        vectorizer = CountVectorizer(min_df=0)\n",
    "    text = list(reviews.quote)\n",
    "    vectorizer.fit(text)\n",
    "    X = vectorizer.transform(text)\n",
    "    X = X.toarray()\n",
    "    \n",
    "    Y = np.asarray(reviews.fresh.map({'rotten': 0, 'fresh':1}))\n",
    "    return X, Y"
   ]
  },
  {
   "cell_type": "code",
   "execution_count": 10,
   "metadata": {},
   "outputs": [
    {
     "name": "stdout",
     "output_type": "stream",
     "text": [
      "Shape of X: (13419, 20875)\n",
      "Shape of Y: (13419,)\n"
     ]
    }
   ],
   "source": [
    "from sklearn.feature_extraction.text import CountVectorizer\n",
    "X, Y = make_xy(reviews)\n",
    "print('Shape of X:', X.shape)\n",
    "print('Shape of Y:', Y.shape)"
   ]
  },
  {
   "cell_type": "markdown",
   "metadata": {},
   "source": [
    "### 2.2 Test-Train split\n",
    "\n",
    "Next, randomly split the data into two groups: a training set (80%) and a validation set (20%).  You can do this manually, as you did in the prior problem set.  Or, use [`train_test_split`](http://scikit-learn.org/stable/modules/generated/sklearn.cross_validation.train_test_split.html) to do this auto-magically.  See [this guide](http://scikit-learn.org/stable/modules/cross_validation.html) for a simple example of how `train_test_split` works."
   ]
  },
  {
   "cell_type": "code",
   "execution_count": 12,
   "metadata": {},
   "outputs": [
    {
     "name": "stdout",
     "output_type": "stream",
     "text": [
      "Shape of X_train: (10735, 20875)\n",
      "Shape of X_test: (2684, 20875)\n",
      "Shape of Y_train: (10735,)\n",
      "Shape of Y_test: (2684,)\n"
     ]
    }
   ],
   "source": [
    "from sklearn.model_selection import train_test_split\n",
    "\n",
    "X_train, X_test, Y_train, Y_test = train_test_split(X, Y, test_size = 0.2, random_state = 50)\n",
    "print('Shape of X_train:', X_train.shape)\n",
    "print('Shape of X_test:', X_test.shape)\n",
    "print('Shape of Y_train:', Y_train.shape)\n",
    "print('Shape of Y_test:', Y_test.shape)"
   ]
  },
  {
   "cell_type": "markdown",
   "metadata": {},
   "source": [
    "### 2.3 Naive Bayes with `MultinomialNB`\n",
    "Use the training set to train a Naive Bayes classifier using the [`MultinomialNB`](http://scikit-learn.org/stable/modules/generated/sklearn.naive_bayes.MultinomialNB.html)\n",
    " object.  Report the accuracy of this model on both the training and testing data.  What do you observe?  Interpret these results!\n",
    "\n",
    "*Hint: This shouldn't take more than 5-10 lines of code to accomplish*\n",
    "\n"
   ]
  },
  {
   "cell_type": "code",
   "execution_count": 13,
   "metadata": {},
   "outputs": [
    {
     "name": "stdout",
     "output_type": "stream",
     "text": [
      "Training Accuracy: 0.9226828132277597\n",
      "Test Accuracy: 0.7790611028315947\n"
     ]
    }
   ],
   "source": [
    "from sklearn.naive_bayes import MultinomialNB\n",
    "\n",
    "fitted_model = MultinomialNB()\n",
    "fitted_model.fit(X_train, Y_train)\n",
    "train_acc = fitted_model.score(X_train, Y_train)\n",
    "test_acc = fitted_model.score(X_test, Y_test)\n",
    "print(\"Training Accuracy: {}\".format(train_acc))\n",
    "print(\"Test Accuracy: {}\".format(test_acc))"
   ]
  },
  {
   "cell_type": "markdown",
   "metadata": {},
   "source": [
    "**Section 2.3**\n",
    "\n",
    "There's a significant difference between the training and test accuracies obtained from the multinomial Naive Bayes classifier, which are calculated as 92.3% and 77.9% respectively. This might indicate some level of overfitting. "
   ]
  },
  {
   "cell_type": "markdown",
   "metadata": {},
   "source": [
    "### 2.4 (EXTRA CREDIT) Naive Bayes from Scratch!\n",
    "That was almost too easy, right?  Right.\n",
    "\n",
    "Your next mission, should you choose to accept it, is to write your own Naive Bayes classifier without relying on `MultinomialNB` or a similar pre-written package.  In addition to the lecture notes and assigned readings, I highly recommend that you review Michael Collin’s lecture notes on Naïve Bayes before starting (available on Canvas).  \n",
    "\n",
    "**Note:**\n",
    "You should do this extra credit assignment *after* you have finished the rest of the problem set.  It is very rewarding, but can also be quite time-consuming!\n",
    "\n",
    "*Hint: You will benefit most from this exercise if you attempt to write the algorithm directly from the lecture notes.  That said, if you really get stuck, Krishnamurthy Viswanathan has written a simple version of [NB in python](http://ebiquity.umbc.edu/blogger/2010/12/07/naive-bayes-classifier-in-50-lines/), which you can peek at if you really get stuck.*"
   ]
  },
  {
   "cell_type": "code",
   "execution_count": 31,
   "metadata": {},
   "outputs": [],
   "source": [
    "alpha = 1\n",
    "X, Y = make_xy(reviews)\n",
    "rotten = Y == 0\n",
    "fresh = ~rotten\n",
    "p_rotten = rotten.sum()/len(Y)\n",
    "p_fresh = fresh.sum()/len(Y)\n",
    "logp_given_rotten = np.log10((X[rotten].sum(axis = 0) + alpha)/len(X[rotten]))\n",
    "logp_given_rotten = np.log10(p_rotten) + logp_given_rotten.sum()\n",
    "logp_given_fresh = np.log10((X[fresh].sum(axis = 0) + alpha)/len(X[fresh]))\n",
    "logp_given_fresh = np.log(p_fresh) + logp_given_fresh.sum()"
   ]
  },
  {
   "cell_type": "markdown",
   "metadata": {},
   "source": [
    "---\n",
    "\n",
    "## Part 3: Evaluation\n",
    "\n",
    "### 3.1 Estimate the likelihood of your data\n",
    "\n",
    "Given a fitted model, you can compute the log-likelihood of your data as a way to assess the performance of your model.  Using `fitted_model.predict_logproba`, the idea is to write a function that computes the log-likelihood of a dataset, so that we can inspect the log-likelihood of your training and testing data given your fitted model from part 2.\n",
    "\n",
    "To help you out a little bit, we'll do this part for you. But make sure you understand it, because you'll need to use this later!"
   ]
  },
  {
   "cell_type": "code",
   "execution_count": 14,
   "metadata": {},
   "outputs": [
    {
     "name": "stdout",
     "output_type": "stream",
     "text": [
      "The log likelihood of the model is: -1447.3249047146842\n"
     ]
    }
   ],
   "source": [
    "\"\"\"\n",
    "Function\n",
    "--------\n",
    "log_likelihood\n",
    "\n",
    "Compute the log likelihood of a dataset according to a bayesian classifier. \n",
    "The Log Likelihood is defined by\n",
    "\n",
    "L = Sum_fresh(logP(fresh)) + Sum_rotten(logP(rotten))\n",
    "\n",
    "Where Sum_fresh indicates a sum over all fresh reviews, \n",
    "and Sum_rotten indicates a sum over rotten reviews\n",
    "    \n",
    "Parameters\n",
    "----------\n",
    "model : Bayesian classifier\n",
    "x : (nexample, nfeature) array\n",
    "    The input data\n",
    "y : (nexample) integer array\n",
    "    Whether each review is Fresh\n",
    "\"\"\"\n",
    "\n",
    "def log_likelihood(model, x, y):\n",
    "    prob = model.predict_log_proba(x)\n",
    "    rotten = y == 0\n",
    "    fresh = ~rotten\n",
    "    return prob[rotten, 0].sum() + prob[fresh, 1].sum()\n",
    "\n",
    "# output the likelihood of your test data (example - you may need to \n",
    "# change the names of the variables below to match your code in 2.2 and 2.3\n",
    "\n",
    "print('The log likelihood of the model is:', log_likelihood(fitted_model, X_test, Y_test))"
   ]
  },
  {
   "cell_type": "markdown",
   "metadata": {},
   "source": [
    "### 3.2 Cross-Validation\n",
    "\n",
    "Why do we care about the log-likelihood of our data?  You guessed it: Cross-Validation.\n",
    "\n",
    "Our classifier has a few hyperparameters. The two most important are:\n",
    "\n",
    " 1. The `min_df` keyword in `CountVectorizer`, which will ignore words which appear in fewer than `min_df` fraction of reviews. Words that appear only once or twice can lead to overfitting, since words which occur only a few times might correlate very well with Fresh/Rotten reviews by chance in the training dataset.\n",
    " \n",
    " 2. The [`alpha` keyword](http://scikit-learn.org/stable/modules/naive_bayes.html#multinomial-naive-bayes) in the Bayesian classifier is a \"smoothing parameter\" -- increasing the value decreases the sensitivity to any single feature, and tends to pull prediction probabilities closer to 50%. \n",
    "\n",
    "How are we are going to use cross-validation to tune these hyperparameters?  The objective function we want to maximize is the log-likelihood of our data.  Fill in the remaining code in this block, to loop over many values of `alpha` and `min_df` to determine\n",
    "which settings are \"best\" in the sense of maximizing the cross-validated log-likelihood.\n",
    "\n",
    "*hint: sklearn has a built-in function, `sklearn.cross_validation.cross_val_score`, that might save you a lot of time here...*"
   ]
  },
  {
   "cell_type": "code",
   "execution_count": 149,
   "metadata": {},
   "outputs": [
    {
     "name": "stdout",
     "output_type": "stream",
     "text": [
      "Calculating for alpha = 0 and min_df = 1e-05 ...\n",
      "Calculating for alpha = 0 and min_df = 0.0001 ...\n",
      "Calculating for alpha = 0 and min_df = 0.001 ...\n",
      "Calculating for alpha = 0 and min_df = 0.01 ...\n",
      "Calculating for alpha = 0 and min_df = 0.1 ...\n",
      "Calculating for alpha = 0.1 and min_df = 1e-05 ...\n",
      "Calculating for alpha = 0.1 and min_df = 0.0001 ...\n",
      "Calculating for alpha = 0.1 and min_df = 0.001 ...\n",
      "Calculating for alpha = 0.1 and min_df = 0.01 ...\n",
      "Calculating for alpha = 0.1 and min_df = 0.1 ...\n",
      "Calculating for alpha = 1 and min_df = 1e-05 ...\n",
      "Calculating for alpha = 1 and min_df = 0.0001 ...\n",
      "Calculating for alpha = 1 and min_df = 0.001 ...\n",
      "Calculating for alpha = 1 and min_df = 0.01 ...\n",
      "Calculating for alpha = 1 and min_df = 0.1 ...\n",
      "Calculating for alpha = 5 and min_df = 1e-05 ...\n",
      "Calculating for alpha = 5 and min_df = 0.0001 ...\n",
      "Calculating for alpha = 5 and min_df = 0.001 ...\n",
      "Calculating for alpha = 5 and min_df = 0.01 ...\n",
      "Calculating for alpha = 5 and min_df = 0.1 ...\n",
      "Calculating for alpha = 10 and min_df = 1e-05 ...\n",
      "Calculating for alpha = 10 and min_df = 0.0001 ...\n",
      "Calculating for alpha = 10 and min_df = 0.001 ...\n",
      "Calculating for alpha = 10 and min_df = 0.01 ...\n",
      "Calculating for alpha = 10 and min_df = 0.1 ...\n",
      "Calculating for alpha = 50 and min_df = 1e-05 ...\n",
      "Calculating for alpha = 50 and min_df = 0.0001 ...\n",
      "Calculating for alpha = 50 and min_df = 0.001 ...\n",
      "Calculating for alpha = 50 and min_df = 0.01 ...\n",
      "Calculating for alpha = 50 and min_df = 0.1 ...\n",
      "Best alpha: 5\n",
      "Best min_df: 0.001\n",
      "Max Log Likelihood: -1442.4258173396206\n"
     ]
    }
   ],
   "source": [
    "from sklearn.model_selection import KFold\n",
    "\n",
    "#the grid of parameters to search over\n",
    "alphas = [0, .1, 1, 5, 10, 50]\n",
    "min_dfs = [1e-5, 1e-4, 1e-3, 1e-2, 1e-1]\n",
    "kf = KFold(n_splits = 5, random_state = 50, shuffle = True)\n",
    "\n",
    "#Find the best value for alpha and min_df, and the best classifier\n",
    "best_alpha = None\n",
    "best_min_df = None\n",
    "max_loglike = -np.inf\n",
    "\n",
    "for alpha in alphas:\n",
    "    for min_df in min_dfs:         \n",
    "        print('Calculating for alpha =', alpha, 'and min_df =', min_df,'...')\n",
    "        vectorizer = CountVectorizer(min_df = min_df)       \n",
    "        X, Y = make_xy(reviews, vectorizer)\n",
    "        fitted_model = MultinomialNB(alpha = alpha)\n",
    "        \n",
    "        list_loglike = []\n",
    "        for train_index, test_index in kf.split(X):\n",
    "            fitted_model.fit(X[train_index], Y[train_index])\n",
    "            list_loglike.append(log_likelihood(fitted_model, X[test_index], Y[test_index]))\n",
    "            \n",
    "        if  np.mean(list_loglike) > max_loglike:\n",
    "            best_alpha = alpha\n",
    "            best_min_df = min_df\n",
    "            max_loglike = np.mean(list_loglike)\n",
    "\n",
    "print(\"Best alpha: {}\".format(best_alpha))\n",
    "print(\"Best min_df: {}\".format(best_min_df))\n",
    "print(\"Max Log Likelihood: {}\".format(max_loglike))"
   ]
  },
  {
   "cell_type": "markdown",
   "metadata": {},
   "source": [
    "### 3.3 Putting it together\n",
    "\n",
    "Now that you've determined values for alpha and min_df that optimize the cross-validated log-likelihood, repeat the steps in 2.1-2.3 to train a final classifier with these parameters and re-evaluate the accuracy.  Discuss the various ways in which Cross-Validation has affected the model. Is the new model more or less accurate? Is overfitting better or worse?"
   ]
  },
  {
   "cell_type": "code",
   "execution_count": 15,
   "metadata": {},
   "outputs": [
    {
     "name": "stdout",
     "output_type": "stream",
     "text": [
      "Training Accuracy: 0.7903120633442012\n",
      "Test Accuracy: 0.7380774962742176\n"
     ]
    }
   ],
   "source": [
    "X, Y = make_xy(reviews, CountVectorizer(min_df = 0.001))\n",
    "X_train, X_test, Y_train, Y_test = train_test_split(X, Y, test_size = 0.2, random_state = 50)\n",
    "fitted_model = MultinomialNB(alpha = 5)\n",
    "fitted_model.fit(X_train, Y_train)\n",
    "train_acc = fitted_model.score(X_train, Y_train)\n",
    "test_acc = fitted_model.score(X_test, Y_test)\n",
    "print(\"Training Accuracy: {}\".format(train_acc))\n",
    "print(\"Test Accuracy: {}\".format(test_acc))"
   ]
  },
  {
   "cell_type": "markdown",
   "metadata": {},
   "source": [
    "**Section 3.3**\n",
    "\n",
    "Using the values which maximizes log likelihood, where alpha = 5 and min_df = 0.001, gives us a cross-validation training accuracy of 79.0% and cross-validation test accuracy of 73.8%. \n",
    "\n",
    "While the model demonstrates less overfitting now (due to the smaller differences in accuracy between training and test sets), both training and test accuracies have decreased from previously. "
   ]
  },
  {
   "cell_type": "markdown",
   "metadata": {},
   "source": [
    "### 3.4 (Extra Credit)\n",
    "\n",
    "What happens if you tried this again using a function besides the log-likelihood -- for example, the classification accuracy?  Interpret these results"
   ]
  },
  {
   "cell_type": "code",
   "execution_count": 151,
   "metadata": {},
   "outputs": [
    {
     "name": "stdout",
     "output_type": "stream",
     "text": [
      "Calculating for alpha = 0 and min_df = 1e-05 ...\n",
      "Calculating for alpha = 0 and min_df = 0.0001 ...\n",
      "Calculating for alpha = 0 and min_df = 0.001 ...\n",
      "Calculating for alpha = 0 and min_df = 0.01 ...\n",
      "Calculating for alpha = 0 and min_df = 0.1 ...\n",
      "Calculating for alpha = 0.1 and min_df = 1e-05 ...\n",
      "Calculating for alpha = 0.1 and min_df = 0.0001 ...\n",
      "Calculating for alpha = 0.1 and min_df = 0.001 ...\n",
      "Calculating for alpha = 0.1 and min_df = 0.01 ...\n",
      "Calculating for alpha = 0.1 and min_df = 0.1 ...\n",
      "Calculating for alpha = 1 and min_df = 1e-05 ...\n",
      "Calculating for alpha = 1 and min_df = 0.0001 ...\n",
      "Calculating for alpha = 1 and min_df = 0.001 ...\n",
      "Calculating for alpha = 1 and min_df = 0.01 ...\n",
      "Calculating for alpha = 1 and min_df = 0.1 ...\n",
      "Calculating for alpha = 5 and min_df = 1e-05 ...\n",
      "Calculating for alpha = 5 and min_df = 0.0001 ...\n",
      "Calculating for alpha = 5 and min_df = 0.001 ...\n",
      "Calculating for alpha = 5 and min_df = 0.01 ...\n",
      "Calculating for alpha = 5 and min_df = 0.1 ...\n",
      "Calculating for alpha = 10 and min_df = 1e-05 ...\n",
      "Calculating for alpha = 10 and min_df = 0.0001 ...\n",
      "Calculating for alpha = 10 and min_df = 0.001 ...\n",
      "Calculating for alpha = 10 and min_df = 0.01 ...\n",
      "Calculating for alpha = 10 and min_df = 0.1 ...\n",
      "Calculating for alpha = 50 and min_df = 1e-05 ...\n",
      "Calculating for alpha = 50 and min_df = 0.0001 ...\n",
      "Calculating for alpha = 50 and min_df = 0.001 ...\n",
      "Calculating for alpha = 50 and min_df = 0.01 ...\n",
      "Calculating for alpha = 50 and min_df = 0.1 ...\n",
      "Best alpha: 1\n",
      "Best min_df: 1e-05\n",
      "Max Accuracy: 0.7711453913335218\n"
     ]
    }
   ],
   "source": [
    "from sklearn.model_selection import cross_val_score\n",
    "\n",
    "#the grid of parameters to search over\n",
    "alphas = [0, .1, 1, 5, 10, 50]\n",
    "min_dfs = [1e-5, 1e-4, 1e-3, 1e-2, 1e-1]\n",
    "\n",
    "\n",
    "#Find the best value for alpha and min_df, and the best classifier\n",
    "best_alpha = None\n",
    "best_min_df = None\n",
    "max_acc = -np.inf\n",
    "\n",
    "for alpha in alphas:\n",
    "    for min_df in min_dfs:         \n",
    "        print('Calculating for alpha =', alpha, 'and min_df =', min_df,'...')\n",
    "        vectorizer = CountVectorizer(min_df = min_df)       \n",
    "        X, Y = make_xy(reviews, vectorizer)\n",
    "        fitted_model = MultinomialNB(alpha = alpha)\n",
    "        acc = cross_val_score(fitted_model, X, Y, cv = 5)            \n",
    "        if  np.mean(acc) > max_acc:\n",
    "            best_alpha = alpha\n",
    "            best_min_df = min_df\n",
    "            max_acc = np.mean(acc)\n",
    "\n",
    "print(\"Best alpha: {}\".format(best_alpha))\n",
    "print(\"Best min_df: {}\".format(best_min_df))\n",
    "print(\"Max Accuracy: {}\".format(max_acc))"
   ]
  },
  {
   "cell_type": "markdown",
   "metadata": {},
   "source": [
    "**Section 3.4**\n",
    "\n",
    "In this section, I repeated the simulation with classification accuracy as an evaluation method (instead of log likelihood). It appears that the best alpha and best min_df values are 1 and 1e-05 respectively, both of which are different from the optimal values obtained when the log likelihood was used as an evaluation measure. \n",
    "\n",
    "In this case, we achieved a cross-validation test accuracy of about 77.1%. "
   ]
  },
  {
   "cell_type": "markdown",
   "metadata": {},
   "source": [
    "### 3.5 Interpretation\n",
    "\n",
    "What words best predict a fresh or rotten review?  Using your classifier and the `vectorizer.get_feature_names` method, determine which words best predict a positive or negative review. Print the 10 words that best predict a \"fresh\" review, and the 10 words that best predict a \"rotten\" review. For each word, what is the model's probability of freshness if the word appears one time?\n",
    "\n",
    "#### Hints\n",
    "* In thinking about how to measure the impact of a word on freshness rating, consider computing the classification probability for a feature vector which consists of all 0s, except for a single 1. What does this probability refer to?\n",
    "* `numpy.identity` generates an identity matrix, where all values are zero except the diagonal elements which have a value of one"
   ]
  },
  {
   "cell_type": "code",
   "execution_count": 16,
   "metadata": {
    "scrolled": true
   },
   "outputs": [
    {
     "data": {
      "text/html": [
       "<div>\n",
       "<style scoped>\n",
       "    .dataframe tbody tr th:only-of-type {\n",
       "        vertical-align: middle;\n",
       "    }\n",
       "\n",
       "    .dataframe tbody tr th {\n",
       "        vertical-align: top;\n",
       "    }\n",
       "\n",
       "    .dataframe thead th {\n",
       "        text-align: right;\n",
       "    }\n",
       "</style>\n",
       "<table border=\"1\" class=\"dataframe\">\n",
       "  <thead>\n",
       "    <tr style=\"text-align: right;\">\n",
       "      <th></th>\n",
       "      <th>word</th>\n",
       "      <th>difference</th>\n",
       "      <th>predict rotten</th>\n",
       "      <th>predict fresh</th>\n",
       "    </tr>\n",
       "  </thead>\n",
       "  <tbody>\n",
       "    <tr>\n",
       "      <th>1157</th>\n",
       "      <td>masterpiece</td>\n",
       "      <td>-2.323942</td>\n",
       "      <td>-2.417329</td>\n",
       "      <td>-0.093387</td>\n",
       "    </tr>\n",
       "    <tr>\n",
       "      <th>460</th>\n",
       "      <td>delight</td>\n",
       "      <td>-2.274645</td>\n",
       "      <td>-2.372528</td>\n",
       "      <td>-0.097883</td>\n",
       "    </tr>\n",
       "    <tr>\n",
       "      <th>1952</th>\n",
       "      <td>touching</td>\n",
       "      <td>-2.039269</td>\n",
       "      <td>-2.161596</td>\n",
       "      <td>-0.122327</td>\n",
       "    </tr>\n",
       "    <tr>\n",
       "      <th>1833</th>\n",
       "      <td>superb</td>\n",
       "      <td>-1.955748</td>\n",
       "      <td>-2.088055</td>\n",
       "      <td>-0.132307</td>\n",
       "    </tr>\n",
       "    <tr>\n",
       "      <th>1538</th>\n",
       "      <td>remarkable</td>\n",
       "      <td>-1.955748</td>\n",
       "      <td>-2.088055</td>\n",
       "      <td>-0.132307</td>\n",
       "    </tr>\n",
       "    <tr>\n",
       "      <th>974</th>\n",
       "      <td>intelligent</td>\n",
       "      <td>-1.923333</td>\n",
       "      <td>-2.059715</td>\n",
       "      <td>-0.136382</td>\n",
       "    </tr>\n",
       "    <tr>\n",
       "      <th>2132</th>\n",
       "      <td>witty</td>\n",
       "      <td>-1.905737</td>\n",
       "      <td>-2.044380</td>\n",
       "      <td>-0.138642</td>\n",
       "    </tr>\n",
       "    <tr>\n",
       "      <th>1811</th>\n",
       "      <td>stunning</td>\n",
       "      <td>-1.894688</td>\n",
       "      <td>-2.034767</td>\n",
       "      <td>-0.140080</td>\n",
       "    </tr>\n",
       "    <tr>\n",
       "      <th>643</th>\n",
       "      <td>extraordinary</td>\n",
       "      <td>-1.894688</td>\n",
       "      <td>-2.034767</td>\n",
       "      <td>-0.140080</td>\n",
       "    </tr>\n",
       "    <tr>\n",
       "      <th>352</th>\n",
       "      <td>complex</td>\n",
       "      <td>-1.886319</td>\n",
       "      <td>-2.027497</td>\n",
       "      <td>-0.141177</td>\n",
       "    </tr>\n",
       "  </tbody>\n",
       "</table>\n",
       "</div>"
      ],
      "text/plain": [
       "               word  difference  predict rotten  predict fresh\n",
       "1157    masterpiece   -2.323942       -2.417329      -0.093387\n",
       "460         delight   -2.274645       -2.372528      -0.097883\n",
       "1952       touching   -2.039269       -2.161596      -0.122327\n",
       "1833         superb   -1.955748       -2.088055      -0.132307\n",
       "1538     remarkable   -1.955748       -2.088055      -0.132307\n",
       "974     intelligent   -1.923333       -2.059715      -0.136382\n",
       "2132          witty   -1.905737       -2.044380      -0.138642\n",
       "1811       stunning   -1.894688       -2.034767      -0.140080\n",
       "643   extraordinary   -1.894688       -2.034767      -0.140080\n",
       "352         complex   -1.886319       -2.027497      -0.141177"
      ]
     },
     "execution_count": 16,
     "metadata": {},
     "output_type": "execute_result"
    }
   ],
   "source": [
    "#training the model on all data, and using optimal parameters for maximizing log likelihood\n",
    "vectorizer = CountVectorizer(min_df = 0.001)\n",
    "X, Y = make_xy(reviews, vectorizer)\n",
    "fitted_model = MultinomialNB(alpha = 5)\n",
    "fitted_model.fit(X,Y)\n",
    "I = np.identity(X.shape[1])\n",
    "\n",
    "#finding the classification probability for each word\n",
    "prob = fitted_model.predict_log_proba(I)\n",
    "\n",
    "#words with a large difference between these two columns mean they cnn predict \"fresh\" or \"rotten\" well. \n",
    "#A large negative difference means the word predicts \"fresh\" well. A large positive difference means the word predicts \"rotten\" well.\n",
    "\n",
    "diff = list(prob[:,0] - prob[:,1])\n",
    "combine = pd.concat([pd.DataFrame(vectorizer.get_feature_names()),pd.DataFrame(diff),pd.DataFrame(prob)], axis = 1)\n",
    "combine.columns = ['word','difference','predict rotten','predict fresh']\n",
    "combine = combine.sort_values(by = 'difference')\n",
    "combine[0:10]"
   ]
  },
  {
   "cell_type": "code",
   "execution_count": 17,
   "metadata": {},
   "outputs": [
    {
     "data": {
      "text/html": [
       "<div>\n",
       "<style scoped>\n",
       "    .dataframe tbody tr th:only-of-type {\n",
       "        vertical-align: middle;\n",
       "    }\n",
       "\n",
       "    .dataframe tbody tr th {\n",
       "        vertical-align: top;\n",
       "    }\n",
       "\n",
       "    .dataframe thead th {\n",
       "        text-align: right;\n",
       "    }\n",
       "</style>\n",
       "<table border=\"1\" class=\"dataframe\">\n",
       "  <thead>\n",
       "    <tr style=\"text-align: right;\">\n",
       "      <th></th>\n",
       "      <th>word</th>\n",
       "      <th>difference</th>\n",
       "      <th>predict rotten</th>\n",
       "      <th>predict fresh</th>\n",
       "    </tr>\n",
       "  </thead>\n",
       "  <tbody>\n",
       "    <tr>\n",
       "      <th>1937</th>\n",
       "      <td>tiresome</td>\n",
       "      <td>1.401149</td>\n",
       "      <td>-0.220190</td>\n",
       "      <td>-1.621339</td>\n",
       "    </tr>\n",
       "    <tr>\n",
       "      <th>1590</th>\n",
       "      <td>sadly</td>\n",
       "      <td>1.401149</td>\n",
       "      <td>-0.220190</td>\n",
       "      <td>-1.621339</td>\n",
       "    </tr>\n",
       "    <tr>\n",
       "      <th>2010</th>\n",
       "      <td>unfunny</td>\n",
       "      <td>1.432402</td>\n",
       "      <td>-0.214091</td>\n",
       "      <td>-1.646492</td>\n",
       "    </tr>\n",
       "    <tr>\n",
       "      <th>531</th>\n",
       "      <td>dull</td>\n",
       "      <td>1.439371</td>\n",
       "      <td>-0.212751</td>\n",
       "      <td>-1.652122</td>\n",
       "    </tr>\n",
       "    <tr>\n",
       "      <th>501</th>\n",
       "      <td>disappointment</td>\n",
       "      <td>1.470142</td>\n",
       "      <td>-0.206927</td>\n",
       "      <td>-1.677069</td>\n",
       "    </tr>\n",
       "    <tr>\n",
       "      <th>198</th>\n",
       "      <td>bland</td>\n",
       "      <td>1.575503</td>\n",
       "      <td>-0.188058</td>\n",
       "      <td>-1.763561</td>\n",
       "    </tr>\n",
       "    <tr>\n",
       "      <th>2011</th>\n",
       "      <td>uninspired</td>\n",
       "      <td>1.614723</td>\n",
       "      <td>-0.181443</td>\n",
       "      <td>-1.796166</td>\n",
       "    </tr>\n",
       "    <tr>\n",
       "      <th>1423</th>\n",
       "      <td>pointless</td>\n",
       "      <td>1.757824</td>\n",
       "      <td>-0.159070</td>\n",
       "      <td>-1.916894</td>\n",
       "    </tr>\n",
       "    <tr>\n",
       "      <th>1047</th>\n",
       "      <td>lame</td>\n",
       "      <td>1.790614</td>\n",
       "      <td>-0.154314</td>\n",
       "      <td>-1.944928</td>\n",
       "    </tr>\n",
       "    <tr>\n",
       "      <th>2009</th>\n",
       "      <td>unfortunately</td>\n",
       "      <td>2.045506</td>\n",
       "      <td>-0.121611</td>\n",
       "      <td>-2.167117</td>\n",
       "    </tr>\n",
       "  </tbody>\n",
       "</table>\n",
       "</div>"
      ],
      "text/plain": [
       "                word  difference  predict rotten  predict fresh\n",
       "1937        tiresome    1.401149       -0.220190      -1.621339\n",
       "1590           sadly    1.401149       -0.220190      -1.621339\n",
       "2010         unfunny    1.432402       -0.214091      -1.646492\n",
       "531             dull    1.439371       -0.212751      -1.652122\n",
       "501   disappointment    1.470142       -0.206927      -1.677069\n",
       "198            bland    1.575503       -0.188058      -1.763561\n",
       "2011      uninspired    1.614723       -0.181443      -1.796166\n",
       "1423       pointless    1.757824       -0.159070      -1.916894\n",
       "1047            lame    1.790614       -0.154314      -1.944928\n",
       "2009   unfortunately    2.045506       -0.121611      -2.167117"
      ]
     },
     "execution_count": 17,
     "metadata": {},
     "output_type": "execute_result"
    }
   ],
   "source": [
    "combine[-10:]"
   ]
  },
  {
   "cell_type": "markdown",
   "metadata": {},
   "source": [
    "**Section 3.5**\n",
    "\n",
    "**(a)** In determining the 10 words which predict \"fresh\" best, and the 10 words which predict \"rotten\" best, we need to find words with the _largest difference_ between the classification probabilities for \"rotten\" and \"fresh\". In the method shown above, a _large negative number_ (more negative) means the word predicts \"fresh\" best, while a _large positive number_ (more positive) means the word predicts \"rotten\" best. \n",
    "\n",
    "Judging from the 20 words printed out, it does seem like the Naive Bayes classifier is learning fairly well. All words in the first table can have strong positive meanings, while all words in the second table are often associated with negativity. \n",
    "\n",
    "**(b)** The probability of the model predicting \"fresh\" is given by the \"predict fresh\" column (last column) in the tables. Evidently, this value is much higher for the first table (words which predict \"fresh\" best) when compared to the second table (words which predict \"rotten\" best). \n"
   ]
  },
  {
   "cell_type": "markdown",
   "metadata": {},
   "source": [
    "### 3.6 Error Analysis\n",
    "\n",
    "One of the best sources for inspiration when trying to improve a model is to look at examples where the model performs poorly.  Find 5 fresh and rotten reviews where your model performs particularly poorly. Print each review.\n",
    "\n",
    "What do you notice about these mis-predictions? Naive Bayes classifiers assume that every word affects the probability independently of other words. In what way is this a bad assumption? In your answer, report your classifier's Freshness probability for the review \"This movie is not remarkable, touching, or superb in any way\"."
   ]
  },
  {
   "cell_type": "code",
   "execution_count": 18,
   "metadata": {
    "scrolled": true
   },
   "outputs": [
    {
     "data": {
      "text/html": [
       "<div>\n",
       "<style scoped>\n",
       "    .dataframe tbody tr th:only-of-type {\n",
       "        vertical-align: middle;\n",
       "    }\n",
       "\n",
       "    .dataframe tbody tr th {\n",
       "        vertical-align: top;\n",
       "    }\n",
       "\n",
       "    .dataframe thead th {\n",
       "        text-align: right;\n",
       "    }\n",
       "</style>\n",
       "<table border=\"1\" class=\"dataframe\">\n",
       "  <thead>\n",
       "    <tr style=\"text-align: right;\">\n",
       "      <th></th>\n",
       "      <th>quote</th>\n",
       "      <th>fresh</th>\n",
       "    </tr>\n",
       "  </thead>\n",
       "  <tbody>\n",
       "    <tr>\n",
       "      <th>11</th>\n",
       "      <td>The script, by Lasseter, Pete Docter, Andrew Stanton and Joe Ranft, is filled with clever gags that keep the two heroes at each other's throats and the plot on fast- forward.</td>\n",
       "      <td>fresh</td>\n",
       "    </tr>\n",
       "    <tr>\n",
       "      <th>16</th>\n",
       "      <td>A gloomy special-effects extravaganza filled with grotesque images, generating fear and despair.</td>\n",
       "      <td>rotten</td>\n",
       "    </tr>\n",
       "    <tr>\n",
       "      <th>17</th>\n",
       "      <td>Walter Matthau and Jack Lemmon are awfully good at this sort of thing.</td>\n",
       "      <td>fresh</td>\n",
       "    </tr>\n",
       "    <tr>\n",
       "      <th>19</th>\n",
       "      <td>Just don't expect their bickering to be on the level of Neil Simon, and you won't be disappointed.</td>\n",
       "      <td>fresh</td>\n",
       "    </tr>\n",
       "    <tr>\n",
       "      <th>22</th>\n",
       "      <td>If you poke through Grumpy's cheap sentimentality, you'll find a worthy picture somewhere.</td>\n",
       "      <td>fresh</td>\n",
       "    </tr>\n",
       "  </tbody>\n",
       "</table>\n",
       "</div>"
      ],
      "text/plain": [
       "                                                                                                                                                                             quote  \\\n",
       "11  The script, by Lasseter, Pete Docter, Andrew Stanton and Joe Ranft, is filled with clever gags that keep the two heroes at each other's throats and the plot on fast- forward.   \n",
       "16  A gloomy special-effects extravaganza filled with grotesque images, generating fear and despair.                                                                                 \n",
       "17  Walter Matthau and Jack Lemmon are awfully good at this sort of thing.                                                                                                           \n",
       "19  Just don't expect their bickering to be on the level of Neil Simon, and you won't be disappointed.                                                                               \n",
       "22  If you poke through Grumpy's cheap sentimentality, you'll find a worthy picture somewhere.                                                                                       \n",
       "\n",
       "     fresh  \n",
       "11  fresh   \n",
       "16  rotten  \n",
       "17  fresh   \n",
       "19  fresh   \n",
       "22  fresh   "
      ]
     },
     "execution_count": 18,
     "metadata": {},
     "output_type": "execute_result"
    }
   ],
   "source": [
    "pd.set_option('display.max_colwidth', -1)\n",
    "X, Y = make_xy(reviews, CountVectorizer(min_df = 0.001))\n",
    "fitted_model = MultinomialNB(alpha = 5)\n",
    "fitted_model.fit(X, Y)\n",
    "wrong_predictions = fitted_model.predict(X) != Y\n",
    "poor_performance = reviews.loc[list(wrong_predictions),['quote','fresh']]\n",
    "poor_performance[0:5]"
   ]
  },
  {
   "cell_type": "markdown",
   "metadata": {},
   "source": [
    "**Section 3.6**\n",
    "\n",
    "**(a)** A critical assumption of the Naive Bayes classifier is that each word affects the 'freshness' probability independent of other words. This is erroneous because in many cases, the meaning of a review is formed by a _group of words_, and not the meaning of any particular word alone. \n",
    "\n",
    "For example, the third row of the reviews above was falsely classified as \"rotten\" when it is actually \"fresh\". This is likely due to the presence of the word \"awfully\", which has a negative connotation when taken on its own.\n",
    "\n",
    "Similarly, in the fourth row, the occurrence of the word \"disappointed\" might have led to model misclassification."
   ]
  },
  {
   "cell_type": "code",
   "execution_count": 19,
   "metadata": {},
   "outputs": [],
   "source": [
    "text2 = (list(reviews.quote) + ['This movie is not remarkable, touching, or superb in any way'])\n",
    "vectorizer = CountVectorizer(min_df=0.001)\n",
    "vectorizer.fit(text2)\n",
    "m = vectorizer.transform(text2)\n",
    "m = m.toarray()[-1,:] #extract the last line, which is a vectorized version of the desired quote"
   ]
  },
  {
   "cell_type": "code",
   "execution_count": 20,
   "metadata": {},
   "outputs": [
    {
     "name": "stdout",
     "output_type": "stream",
     "text": [
      "The predicted freshness for 'This movie is not remarkable, touching, or superb in any way' is : [1]\n"
     ]
    }
   ],
   "source": [
    "X, Y = make_xy(reviews, CountVectorizer(min_df = 0.001))\n",
    "fitted_model = MultinomialNB(alpha = 5)\n",
    "fitted_model.fit(X, Y)\n",
    "predicted_freshness_m = fitted_model.predict(m.reshape(1,-1))\n",
    "print('The predicted freshness for \\'This movie is not remarkable, touching, or superb in any way\\' is :', predicted_freshness_m)"
   ]
  },
  {
   "cell_type": "markdown",
   "metadata": {},
   "source": [
    "**Section 3.6** \n",
    "\n",
    "**(b)** As expected, due to the high occurrence of positive words (when taken on its own) such as \"remarkable\", \"touching\" and \"superb\", the critic was predicted to give a \"fresh\" rating. The Naive Bayes classifier failed to account for the presence of \"not\", which essentially flips the meaning of the review completely. "
   ]
  }
 ],
 "metadata": {
  "anaconda-cloud": {},
  "kernelspec": {
   "display_name": "Python 3",
   "language": "python",
   "name": "python3"
  },
  "language_info": {
   "codemirror_mode": {
    "name": "ipython",
    "version": 3
   },
   "file_extension": ".py",
   "mimetype": "text/x-python",
   "name": "python",
   "nbconvert_exporter": "python",
   "pygments_lexer": "ipython3",
   "version": "3.6.4"
  }
 },
 "nbformat": 4,
 "nbformat_minor": 1
}
